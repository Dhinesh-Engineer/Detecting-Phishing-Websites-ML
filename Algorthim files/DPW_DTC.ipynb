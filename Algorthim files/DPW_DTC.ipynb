{
  "nbformat": 4,
  "nbformat_minor": 0,
  "metadata": {
    "colab": {
      "provenance": []
    },
    "kernelspec": {
      "name": "python3",
      "display_name": "Python 3"
    },
    "language_info": {
      "name": "python"
    }
  },
  "cells": [
    {
      "cell_type": "markdown",
      "source": [
        "IMPORT LIBRARIES\n"
      ],
      "metadata": {
        "id": "O4uI0k7KHAx6"
      }
    },
    {
      "cell_type": "code",
      "execution_count": null,
      "metadata": {
        "id": "eveLlQRWGnYj"
      },
      "outputs": [],
      "source": [
        "import pandas as pd\n",
        "import numpy as np\n",
        "import seaborn as sns\n",
        "import matplotlib.pyplot as plt"
      ]
    },
    {
      "cell_type": "markdown",
      "source": [
        "\n",
        "These are the necessary libraries required to read and manipulate data, plot graphs, and perform machine learning operations."
      ],
      "metadata": {
        "id": "1Yj9-aTxHj2n"
      }
    },
    {
      "cell_type": "code",
      "source": [
        "data = pd.read_csv('urldata.csv')"
      ],
      "metadata": {
        "id": "OvAzoK78H-Nr"
      },
      "execution_count": null,
      "outputs": []
    },
    {
      "cell_type": "markdown",
      "source": [
        "#This line reads the CSV file urldata.csv and stores the data in a Pandas DataFrame called data."
      ],
      "metadata": {
        "id": "LPfvL1TaKGzT"
      }
    },
    {
      "cell_type": "code",
      "source": [
        "data.head()"
      ],
      "metadata": {
        "id": "cjwlb5KrIO0a"
      },
      "execution_count": null,
      "outputs": []
    },
    {
      "cell_type": "markdown",
      "source": [],
      "metadata": {
        "id": "H-RECmodKIJl"
      }
    },
    {
      "cell_type": "code",
      "source": [
        "data.columns"
      ],
      "metadata": {
        "id": "iLYXeRIxIWz8"
      },
      "execution_count": null,
      "outputs": []
    },
    {
      "cell_type": "markdown",
      "source": [
        "#This line displays the first five rows of the DataFrame data.\n"
      ],
      "metadata": {
        "id": "9vsPpk3dKbCc"
      }
    },
    {
      "cell_type": "code",
      "source": [
        "data.shape"
      ],
      "metadata": {
        "id": "8DypEN7nIRt3"
      },
      "execution_count": null,
      "outputs": []
    },
    {
      "cell_type": "markdown",
      "source": [],
      "metadata": {
        "id": "1HOAUptmKZ9L"
      }
    },
    {
      "cell_type": "code",
      "source": [
        "data.info()"
      ],
      "metadata": {
        "id": "ZckXylGVIhcH"
      },
      "execution_count": null,
      "outputs": []
    },
    {
      "cell_type": "markdown",
      "source": [],
      "metadata": {
        "id": "2T6r-jm3KYxc"
      }
    },
    {
      "cell_type": "code",
      "source": [
        "data.hist(bins = 50,figsize = (15,15))\n",
        "plt.show()"
      ],
      "metadata": {
        "id": "H3ZssBJXIk9-"
      },
      "execution_count": null,
      "outputs": []
    },
    {
      "cell_type": "markdown",
      "source": [],
      "metadata": {
        "id": "WJiuGWSUKX_x"
      }
    },
    {
      "cell_type": "code",
      "source": [
        "plt.figure(figsize=(15,13))\n",
        "sns.heatmap(data.corr())\n",
        "plt.show()"
      ],
      "metadata": {
        "id": "UBHXkKwCInS7"
      },
      "execution_count": null,
      "outputs": []
    },
    {
      "cell_type": "markdown",
      "source": [],
      "metadata": {
        "id": "TGW2kMZeKXZ7"
      }
    },
    {
      "cell_type": "code",
      "source": [
        "data.describe()"
      ],
      "metadata": {
        "id": "ZEIywXyWItTL"
      },
      "execution_count": null,
      "outputs": []
    },
    {
      "cell_type": "markdown",
      "source": [],
      "metadata": {
        "id": "At64ovyeKXCH"
      }
    },
    {
      "cell_type": "code",
      "source": [
        "dfsa = data.drop(['Domain'], axis = 1).copy()"
      ],
      "metadata": {
        "id": "4oaduthXI1Qo"
      },
      "execution_count": null,
      "outputs": []
    },
    {
      "cell_type": "markdown",
      "source": [],
      "metadata": {
        "id": "HRfe8DYSKWq3"
      }
    },
    {
      "cell_type": "code",
      "source": [
        "dfsa.isnull().sum()"
      ],
      "metadata": {
        "id": "iAT5mdENI4BQ"
      },
      "execution_count": null,
      "outputs": []
    },
    {
      "cell_type": "markdown",
      "source": [],
      "metadata": {
        "id": "he64b3X7KWG7"
      }
    },
    {
      "cell_type": "code",
      "source": [
        "dfsa = dfsa.sample(frac=1).reset_index(drop=True)\n",
        "dfsa.head()"
      ],
      "metadata": {
        "colab": {
          "base_uri": "https://localhost:8080/",
          "height": 190
        },
        "id": "QZjBgudrI8SM",
        "outputId": "ca0afa86-5e5a-4873-8a3b-0287ace07a60"
      },
      "execution_count": null,
      "outputs": [
        {
          "output_type": "error",
          "ename": "NameError",
          "evalue": "ignored",
          "traceback": [
            "\u001b[0;31m---------------------------------------------------------------------------\u001b[0m",
            "\u001b[0;31mNameError\u001b[0m                                 Traceback (most recent call last)",
            "\u001b[0;32m<ipython-input-1-cd15572c6a71>\u001b[0m in \u001b[0;36m<module>\u001b[0;34m\u001b[0m\n\u001b[0;32m----> 1\u001b[0;31m \u001b[0mdfsa\u001b[0m \u001b[0;34m=\u001b[0m \u001b[0mdfsa\u001b[0m\u001b[0;34m.\u001b[0m\u001b[0msample\u001b[0m\u001b[0;34m(\u001b[0m\u001b[0mfrac\u001b[0m\u001b[0;34m=\u001b[0m\u001b[0;36m1\u001b[0m\u001b[0;34m)\u001b[0m\u001b[0;34m.\u001b[0m\u001b[0mreset_index\u001b[0m\u001b[0;34m(\u001b[0m\u001b[0mdrop\u001b[0m\u001b[0;34m=\u001b[0m\u001b[0;32mTrue\u001b[0m\u001b[0;34m)\u001b[0m\u001b[0;34m\u001b[0m\u001b[0;34m\u001b[0m\u001b[0m\n\u001b[0m\u001b[1;32m      2\u001b[0m \u001b[0mdfsa\u001b[0m\u001b[0;34m.\u001b[0m\u001b[0mhead\u001b[0m\u001b[0;34m(\u001b[0m\u001b[0;34m)\u001b[0m\u001b[0;34m\u001b[0m\u001b[0;34m\u001b[0m\u001b[0m\n",
            "\u001b[0;31mNameError\u001b[0m: name 'dfsa' is not defined"
          ]
        }
      ]
    },
    {
      "cell_type": "markdown",
      "source": [],
      "metadata": {
        "id": "u3TBNUE8KUTf"
      }
    },
    {
      "cell_type": "code",
      "source": [
        "y = dfsa['Label']\n",
        "X = dfsa.drop('Label',axis=1) "
      ],
      "metadata": {
        "id": "XoV0sTBoI_HA"
      },
      "execution_count": null,
      "outputs": []
    },
    {
      "cell_type": "markdown",
      "source": [],
      "metadata": {
        "id": "Q_CNRpzBKTsc"
      }
    },
    {
      "cell_type": "code",
      "source": [
        "X.shape, y.shape"
      ],
      "metadata": {
        "id": "5_qaybCnJGSy"
      },
      "execution_count": null,
      "outputs": []
    },
    {
      "cell_type": "markdown",
      "source": [],
      "metadata": {
        "id": "U08axs1BKTMa"
      }
    },
    {
      "cell_type": "code",
      "source": [
        "from sklearn.metrics import accuracy_score"
      ],
      "metadata": {
        "id": "N9lEEGyIJKOI"
      },
      "execution_count": null,
      "outputs": []
    },
    {
      "cell_type": "markdown",
      "source": [],
      "metadata": {
        "id": "JF8Rdw-sKR4s"
      }
    },
    {
      "cell_type": "code",
      "source": [
        "ML_Model = []\n",
        "acc_train = []\n",
        "acc_test = []\n",
        "def storeResults(model, a,b):\n",
        "  ML_Model.append(model)\n",
        "  acc_train.append(round(a, 3))\n",
        "  acc_test.append(round(b, 3))"
      ],
      "metadata": {
        "id": "kYysduEaJT5X"
      },
      "execution_count": null,
      "outputs": []
    },
    {
      "cell_type": "markdown",
      "source": [],
      "metadata": {
        "id": "xBekEK7GKRRF"
      }
    },
    {
      "cell_type": "code",
      "source": [
        "results = pd.DataFrame({ 'ML Model': ML_Model,    \n",
        "                         'Train Accuracy': acc_train,\n",
        "                        'Test Accuracy': acc_test})\n",
        "results"
      ],
      "metadata": {
        "id": "qYjxOLOFJToR"
      },
      "execution_count": null,
      "outputs": []
    },
    {
      "cell_type": "markdown",
      "source": [],
      "metadata": {
        "id": "8fL8VuB9KQX-"
      }
    },
    {
      "cell_type": "code",
      "source": [
        "from sklearn.tree import DecisionTreeClassifier\n",
        "from sklearn.model_selection import train_test_split\n",
        "from sklearn.metrics import accuracy_score"
      ],
      "metadata": {
        "id": "rllpvFJPJTY8"
      },
      "execution_count": null,
      "outputs": []
    },
    {
      "cell_type": "markdown",
      "source": [],
      "metadata": {
        "id": "wddBonbxKPvR"
      }
    },
    {
      "cell_type": "code",
      "source": [
        "tree = DecisionTreeClassifier(max_depth=5)"
      ],
      "metadata": {
        "id": "aZx7YwS9JTJ0"
      },
      "execution_count": null,
      "outputs": []
    },
    {
      "cell_type": "markdown",
      "source": [],
      "metadata": {
        "id": "HTvVcm8gKPD3"
      }
    },
    {
      "cell_type": "code",
      "source": [
        "X_train, X_test, y_train, y_test = train_test_split(X, y, test_size=0.2, random_state=42)"
      ],
      "metadata": {
        "id": "fYpGjNpWJSiN"
      },
      "execution_count": null,
      "outputs": []
    },
    {
      "cell_type": "markdown",
      "source": [],
      "metadata": {
        "id": "gj3avnSlKOU6"
      }
    },
    {
      "cell_type": "code",
      "source": [
        "tree.fit(X_train, y_train)"
      ],
      "metadata": {
        "id": "FFAGqbFiJsJZ"
      },
      "execution_count": null,
      "outputs": []
    },
    {
      "cell_type": "markdown",
      "source": [],
      "metadata": {
        "id": "hQLkRLTYKNc6"
      }
    },
    {
      "cell_type": "code",
      "source": [
        "y_test_tree = tree.predict(X_test)\n",
        "y_train_tree = tree.predict(X_train)"
      ],
      "metadata": {
        "id": "TnCLUSCXJrx3"
      },
      "execution_count": null,
      "outputs": []
    },
    {
      "cell_type": "markdown",
      "source": [],
      "metadata": {
        "id": "i7rkyRORKM60"
      }
    },
    {
      "cell_type": "code",
      "source": [
        "acc_train_tree = accuracy_score(y_train,y_train_tree)\n",
        "acc_test_tree = accuracy_score(y_test,y_test_tree)"
      ],
      "metadata": {
        "id": "Z3s23E__Jrdc"
      },
      "execution_count": null,
      "outputs": []
    },
    {
      "cell_type": "markdown",
      "source": [],
      "metadata": {
        "id": "lP0QJxCJKMbS"
      }
    },
    {
      "cell_type": "code",
      "source": [
        "print(\"Decision Tree: Accuracy on training Data: {:.3f}\".format(acc_train_tree))\n",
        "print(\"Decision Tree: Accuracy on test Data: {:.3f}\".format(acc_test_tree))"
      ],
      "metadata": {
        "id": "BK9yv8qTJ3qw"
      },
      "execution_count": null,
      "outputs": []
    },
    {
      "cell_type": "markdown",
      "source": [],
      "metadata": {
        "id": "489UZUr5KLxo"
      }
    },
    {
      "cell_type": "code",
      "source": [
        "plt.figure(figsize=(9,7))\n",
        "n_features = X_train.shape[1]\n",
        "plt.barh(range(n_features), tree.feature_importances_, align='center')\n",
        "plt.yticks(np.arange(n_features), X_train.columns)\n",
        "plt.xlabel(\"Feature importance\")\n",
        "plt.ylabel(\"Feature\")\n",
        "plt.show()"
      ],
      "metadata": {
        "id": "37YzC2uLJ7VL"
      },
      "execution_count": null,
      "outputs": []
    },
    {
      "cell_type": "markdown",
      "source": [],
      "metadata": {
        "id": "bc7rVGFfKKlF"
      }
    },
    {
      "cell_type": "code",
      "source": [
        "storeResults('Decision Tree', acc_train_tree, acc_test_tree)"
      ],
      "metadata": {
        "id": "6bwfp3ogJ_b-"
      },
      "execution_count": null,
      "outputs": []
    },
    {
      "cell_type": "markdown",
      "source": [],
      "metadata": {
        "id": "NND82IUbKJ0i"
      }
    }
  ]
}